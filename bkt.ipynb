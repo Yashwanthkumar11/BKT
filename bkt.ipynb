{
  "nbformat": 4,
  "nbformat_minor": 5,
  "metadata": {
    "colab": {
      "name": "bkt.ipynb",
      "provenance": [],
      "collapsed_sections": []
    },
    "kernelspec": {
      "display_name": "Python 3",
      "language": "python",
      "name": "python3"
    },
    "language_info": {
      "codemirror_mode": {
        "name": "ipython",
        "version": 3
      },
      "file_extension": ".py",
      "mimetype": "text/x-python",
      "name": "python",
      "nbconvert_exporter": "python",
      "pygments_lexer": "ipython3",
      "version": "3.8.5"
    }
  },
  "cells": [
    {
      "cell_type": "markdown",
      "metadata": {
        "id": "gGnO-nD11ff1"
      },
      "source": [
        "# connect"
      ],
      "id": "gGnO-nD11ff1"
    },
    {
      "cell_type": "code",
      "metadata": {
        "colab": {
          "base_uri": "https://localhost:8080/"
        },
        "id": "painful-defensive",
        "outputId": "65313700-43aa-4429-8c16-7e63802d216d"
      },
      "source": [
        "from google.colab import drive\n",
        "drive.mount('/content/gdrive')\n"
      ],
      "id": "painful-defensive",
      "execution_count": 2,
      "outputs": [
        {
          "output_type": "stream",
          "text": [
            "Drive already mounted at /content/gdrive; to attempt to forcibly remount, call drive.mount(\"/content/gdrive\", force_remount=True).\n"
          ],
          "name": "stdout"
        }
      ]
    },
    {
      "cell_type": "code",
      "metadata": {
        "colab": {
          "base_uri": "https://localhost:8080/"
        },
        "id": "allied-diesel",
        "outputId": "d71d63d7-dcbf-4962-f81a-17592d3f4253"
      },
      "source": [
        "%cd /content/gdrive/MyDrive/BKT"
      ],
      "id": "allied-diesel",
      "execution_count": 3,
      "outputs": [
        {
          "output_type": "stream",
          "text": [
            "/content/gdrive/MyDrive/BKT\n"
          ],
          "name": "stdout"
        }
      ]
    },
    {
      "cell_type": "markdown",
      "metadata": {
        "id": "qwdoIrIi1lEV"
      },
      "source": [
        "#Explore data\n",
        "## Removed few columns from Assistment dataset which aren't necessary"
      ],
      "id": "qwdoIrIi1lEV"
    },
    {
      "cell_type": "code",
      "metadata": {
        "id": "Dxx2Icd31oxL"
      },
      "source": [
        "import numpy as np\n",
        "import pandas as pd\n",
        "import csv\n",
        "from csv import reader\n",
        "\n",
        "import re\n",
        "import sys\n",
        "import argparse\n",
        "\n",
        "import math\n",
        "import operator\n",
        "\n",
        "from sklearn import metrics\n",
        "from sklearn.metrics import roc_auc_score\n",
        "\n"
      ],
      "id": "Dxx2Icd31oxL",
      "execution_count": 4,
      "outputs": []
    },
    {
      "cell_type": "code",
      "metadata": {
        "colab": {
          "base_uri": "https://localhost:8080/",
          "height": 467
        },
        "id": "9oO8R9qi1vCV",
        "outputId": "97472a35-e155-45c4-8923-bb87026a2135"
      },
      "source": [
        "df = pd.read_csv('sbnew.csv', encoding = 'latin', low_memory = False)\n",
        "print(df.columns)\n",
        "df"
      ],
      "id": "9oO8R9qi1vCV",
      "execution_count": null,
      "outputs": [
        {
          "output_type": "stream",
          "text": [
            "Index(['user_id', 'problem_id', 'correct', 'attempt_count', 'answer_type',\n",
            "       'type', 'skill_id', 'skill_name'],\n",
            "      dtype='object')\n"
          ],
          "name": "stdout"
        },
        {
          "output_type": "execute_result",
          "data": {
            "text/html": [
              "<div>\n",
              "<style scoped>\n",
              "    .dataframe tbody tr th:only-of-type {\n",
              "        vertical-align: middle;\n",
              "    }\n",
              "\n",
              "    .dataframe tbody tr th {\n",
              "        vertical-align: top;\n",
              "    }\n",
              "\n",
              "    .dataframe thead th {\n",
              "        text-align: right;\n",
              "    }\n",
              "</style>\n",
              "<table border=\"1\" class=\"dataframe\">\n",
              "  <thead>\n",
              "    <tr style=\"text-align: right;\">\n",
              "      <th></th>\n",
              "      <th>user_id</th>\n",
              "      <th>problem_id</th>\n",
              "      <th>correct</th>\n",
              "      <th>attempt_count</th>\n",
              "      <th>answer_type</th>\n",
              "      <th>type</th>\n",
              "      <th>skill_id</th>\n",
              "      <th>skill_name</th>\n",
              "    </tr>\n",
              "  </thead>\n",
              "  <tbody>\n",
              "    <tr>\n",
              "      <th>0</th>\n",
              "      <td>64525</td>\n",
              "      <td>51424</td>\n",
              "      <td>1</td>\n",
              "      <td>1</td>\n",
              "      <td>algebra</td>\n",
              "      <td>MasterySection</td>\n",
              "      <td>1.0</td>\n",
              "      <td>Box and Whisker</td>\n",
              "    </tr>\n",
              "    <tr>\n",
              "      <th>1</th>\n",
              "      <td>64525</td>\n",
              "      <td>51435</td>\n",
              "      <td>1</td>\n",
              "      <td>1</td>\n",
              "      <td>algebra</td>\n",
              "      <td>MasterySection</td>\n",
              "      <td>1.0</td>\n",
              "      <td>Box and Whisker</td>\n",
              "    </tr>\n",
              "    <tr>\n",
              "      <th>2</th>\n",
              "      <td>70363</td>\n",
              "      <td>51444</td>\n",
              "      <td>0</td>\n",
              "      <td>2</td>\n",
              "      <td>algebra</td>\n",
              "      <td>MasterySection</td>\n",
              "      <td>1.0</td>\n",
              "      <td>Box and Whisker</td>\n",
              "    </tr>\n",
              "    <tr>\n",
              "      <th>3</th>\n",
              "      <td>70363</td>\n",
              "      <td>51395</td>\n",
              "      <td>1</td>\n",
              "      <td>1</td>\n",
              "      <td>algebra</td>\n",
              "      <td>MasterySection</td>\n",
              "      <td>1.0</td>\n",
              "      <td>Box and Whisker</td>\n",
              "    </tr>\n",
              "    <tr>\n",
              "      <th>4</th>\n",
              "      <td>70363</td>\n",
              "      <td>51481</td>\n",
              "      <td>0</td>\n",
              "      <td>14</td>\n",
              "      <td>algebra</td>\n",
              "      <td>MasterySection</td>\n",
              "      <td>1.0</td>\n",
              "      <td>Box and Whisker</td>\n",
              "    </tr>\n",
              "    <tr>\n",
              "      <th>...</th>\n",
              "      <td>...</td>\n",
              "      <td>...</td>\n",
              "      <td>...</td>\n",
              "      <td>...</td>\n",
              "      <td>...</td>\n",
              "      <td>...</td>\n",
              "      <td>...</td>\n",
              "      <td>...</td>\n",
              "    </tr>\n",
              "    <tr>\n",
              "      <th>525529</th>\n",
              "      <td>96299</td>\n",
              "      <td>108976</td>\n",
              "      <td>1</td>\n",
              "      <td>1</td>\n",
              "      <td>choose_1</td>\n",
              "      <td>MasterySection</td>\n",
              "      <td>NaN</td>\n",
              "      <td>NaN</td>\n",
              "    </tr>\n",
              "    <tr>\n",
              "      <th>525530</th>\n",
              "      <td>96299</td>\n",
              "      <td>109015</td>\n",
              "      <td>1</td>\n",
              "      <td>1</td>\n",
              "      <td>choose_1</td>\n",
              "      <td>MasterySection</td>\n",
              "      <td>NaN</td>\n",
              "      <td>NaN</td>\n",
              "    </tr>\n",
              "    <tr>\n",
              "      <th>525531</th>\n",
              "      <td>96299</td>\n",
              "      <td>54060</td>\n",
              "      <td>1</td>\n",
              "      <td>1</td>\n",
              "      <td>algebra</td>\n",
              "      <td>MasterySection</td>\n",
              "      <td>NaN</td>\n",
              "      <td>NaN</td>\n",
              "    </tr>\n",
              "    <tr>\n",
              "      <th>525532</th>\n",
              "      <td>96299</td>\n",
              "      <td>54061</td>\n",
              "      <td>1</td>\n",
              "      <td>1</td>\n",
              "      <td>algebra</td>\n",
              "      <td>MasterySection</td>\n",
              "      <td>NaN</td>\n",
              "      <td>NaN</td>\n",
              "    </tr>\n",
              "    <tr>\n",
              "      <th>525533</th>\n",
              "      <td>96299</td>\n",
              "      <td>54062</td>\n",
              "      <td>0</td>\n",
              "      <td>9</td>\n",
              "      <td>algebra</td>\n",
              "      <td>MasterySection</td>\n",
              "      <td>NaN</td>\n",
              "      <td>NaN</td>\n",
              "    </tr>\n",
              "  </tbody>\n",
              "</table>\n",
              "<p>525534 rows × 8 columns</p>\n",
              "</div>"
            ],
            "text/plain": [
              "        user_id  problem_id  correct  ...            type skill_id       skill_name\n",
              "0         64525       51424        1  ...  MasterySection      1.0  Box and Whisker\n",
              "1         64525       51435        1  ...  MasterySection      1.0  Box and Whisker\n",
              "2         70363       51444        0  ...  MasterySection      1.0  Box and Whisker\n",
              "3         70363       51395        1  ...  MasterySection      1.0  Box and Whisker\n",
              "4         70363       51481        0  ...  MasterySection      1.0  Box and Whisker\n",
              "...         ...         ...      ...  ...             ...      ...              ...\n",
              "525529    96299      108976        1  ...  MasterySection      NaN              NaN\n",
              "525530    96299      109015        1  ...  MasterySection      NaN              NaN\n",
              "525531    96299       54060        1  ...  MasterySection      NaN              NaN\n",
              "525532    96299       54061        1  ...  MasterySection      NaN              NaN\n",
              "525533    96299       54062        0  ...  MasterySection      NaN              NaN\n",
              "\n",
              "[525534 rows x 8 columns]"
            ]
          },
          "metadata": {
            "tags": []
          },
          "execution_count": 4
        }
      ]
    },
    {
      "cell_type": "markdown",
      "metadata": {
        "id": "O1e0JUBSCkfx"
      },
      "source": [
        "# Sort the data using student id and save as csv"
      ],
      "id": "O1e0JUBSCkfx"
    },
    {
      "cell_type": "code",
      "metadata": {
        "id": "NLWbBAD46cZ-"
      },
      "source": [
        "sample = open('sbnew.csv','r')\n",
        "csv1 = csv.reader(sample)\n",
        "\n",
        "sort = sorted(csv1,key = operator.itemgetter(0))\n"
      ],
      "id": "NLWbBAD46cZ-",
      "execution_count": null,
      "outputs": []
    },
    {
      "cell_type": "code",
      "metadata": {
        "id": "m1TgKw835Nui"
      },
      "source": [
        "sort"
      ],
      "id": "m1TgKw835Nui",
      "execution_count": null,
      "outputs": []
    },
    {
      "cell_type": "code",
      "metadata": {
        "id": "-Jg37iw57oRO"
      },
      "source": [
        "# saving as a csv file\n",
        "file = open('sorted_student.csv', 'w+', newline ='')\n",
        "with file:    \n",
        "    write = csv.writer(file)\n",
        "    write.writerows(sort)"
      ],
      "id": "-Jg37iw57oRO",
      "execution_count": null,
      "outputs": []
    },
    {
      "cell_type": "code",
      "metadata": {
        "colab": {
          "base_uri": "https://localhost:8080/",
          "height": 467
        },
        "id": "kR5sMS4gCd-2",
        "outputId": "367046b8-1412-4f74-be79-53836697b553"
      },
      "source": [
        "df1 = pd.read_csv('sorted_student.csv', encoding = 'latin', low_memory = False)\n",
        "print(df1.columns)\n",
        "df1"
      ],
      "id": "kR5sMS4gCd-2",
      "execution_count": null,
      "outputs": [
        {
          "output_type": "stream",
          "text": [
            "Index(['user_id', 'problem_id', 'correct', 'attempt_count', 'answer_type',\n",
            "       'type', 'skill_id', 'skill_name'],\n",
            "      dtype='object')\n"
          ],
          "name": "stdout"
        },
        {
          "output_type": "execute_result",
          "data": {
            "text/html": [
              "<div>\n",
              "<style scoped>\n",
              "    .dataframe tbody tr th:only-of-type {\n",
              "        vertical-align: middle;\n",
              "    }\n",
              "\n",
              "    .dataframe tbody tr th {\n",
              "        vertical-align: top;\n",
              "    }\n",
              "\n",
              "    .dataframe thead th {\n",
              "        text-align: right;\n",
              "    }\n",
              "</style>\n",
              "<table border=\"1\" class=\"dataframe\">\n",
              "  <thead>\n",
              "    <tr style=\"text-align: right;\">\n",
              "      <th></th>\n",
              "      <th>user_id</th>\n",
              "      <th>problem_id</th>\n",
              "      <th>correct</th>\n",
              "      <th>attempt_count</th>\n",
              "      <th>answer_type</th>\n",
              "      <th>type</th>\n",
              "      <th>skill_id</th>\n",
              "      <th>skill_name</th>\n",
              "    </tr>\n",
              "  </thead>\n",
              "  <tbody>\n",
              "    <tr>\n",
              "      <th>0</th>\n",
              "      <td>14</td>\n",
              "      <td>93383</td>\n",
              "      <td>0</td>\n",
              "      <td>1</td>\n",
              "      <td>algebra</td>\n",
              "      <td>MasterySection</td>\n",
              "      <td>2.0</td>\n",
              "      <td>Circle Graph</td>\n",
              "    </tr>\n",
              "    <tr>\n",
              "      <th>1</th>\n",
              "      <td>14</td>\n",
              "      <td>93407</td>\n",
              "      <td>1</td>\n",
              "      <td>1</td>\n",
              "      <td>algebra</td>\n",
              "      <td>MasterySection</td>\n",
              "      <td>2.0</td>\n",
              "      <td>Circle Graph</td>\n",
              "    </tr>\n",
              "    <tr>\n",
              "      <th>2</th>\n",
              "      <td>14</td>\n",
              "      <td>93400</td>\n",
              "      <td>0</td>\n",
              "      <td>1</td>\n",
              "      <td>algebra</td>\n",
              "      <td>MasterySection</td>\n",
              "      <td>2.0</td>\n",
              "      <td>Circle Graph</td>\n",
              "    </tr>\n",
              "    <tr>\n",
              "      <th>3</th>\n",
              "      <td>14</td>\n",
              "      <td>93419</td>\n",
              "      <td>0</td>\n",
              "      <td>1</td>\n",
              "      <td>algebra</td>\n",
              "      <td>MasterySection</td>\n",
              "      <td>2.0</td>\n",
              "      <td>Circle Graph</td>\n",
              "    </tr>\n",
              "    <tr>\n",
              "      <th>4</th>\n",
              "      <td>14</td>\n",
              "      <td>93420</td>\n",
              "      <td>0</td>\n",
              "      <td>1</td>\n",
              "      <td>algebra</td>\n",
              "      <td>MasterySection</td>\n",
              "      <td>2.0</td>\n",
              "      <td>Circle Graph</td>\n",
              "    </tr>\n",
              "    <tr>\n",
              "      <th>...</th>\n",
              "      <td>...</td>\n",
              "      <td>...</td>\n",
              "      <td>...</td>\n",
              "      <td>...</td>\n",
              "      <td>...</td>\n",
              "      <td>...</td>\n",
              "      <td>...</td>\n",
              "      <td>...</td>\n",
              "    </tr>\n",
              "    <tr>\n",
              "      <th>525529</th>\n",
              "      <td>96299</td>\n",
              "      <td>108976</td>\n",
              "      <td>1</td>\n",
              "      <td>1</td>\n",
              "      <td>choose_1</td>\n",
              "      <td>MasterySection</td>\n",
              "      <td>NaN</td>\n",
              "      <td>NaN</td>\n",
              "    </tr>\n",
              "    <tr>\n",
              "      <th>525530</th>\n",
              "      <td>96299</td>\n",
              "      <td>109015</td>\n",
              "      <td>1</td>\n",
              "      <td>1</td>\n",
              "      <td>choose_1</td>\n",
              "      <td>MasterySection</td>\n",
              "      <td>NaN</td>\n",
              "      <td>NaN</td>\n",
              "    </tr>\n",
              "    <tr>\n",
              "      <th>525531</th>\n",
              "      <td>96299</td>\n",
              "      <td>54060</td>\n",
              "      <td>1</td>\n",
              "      <td>1</td>\n",
              "      <td>algebra</td>\n",
              "      <td>MasterySection</td>\n",
              "      <td>NaN</td>\n",
              "      <td>NaN</td>\n",
              "    </tr>\n",
              "    <tr>\n",
              "      <th>525532</th>\n",
              "      <td>96299</td>\n",
              "      <td>54061</td>\n",
              "      <td>1</td>\n",
              "      <td>1</td>\n",
              "      <td>algebra</td>\n",
              "      <td>MasterySection</td>\n",
              "      <td>NaN</td>\n",
              "      <td>NaN</td>\n",
              "    </tr>\n",
              "    <tr>\n",
              "      <th>525533</th>\n",
              "      <td>96299</td>\n",
              "      <td>54062</td>\n",
              "      <td>0</td>\n",
              "      <td>9</td>\n",
              "      <td>algebra</td>\n",
              "      <td>MasterySection</td>\n",
              "      <td>NaN</td>\n",
              "      <td>NaN</td>\n",
              "    </tr>\n",
              "  </tbody>\n",
              "</table>\n",
              "<p>525534 rows × 8 columns</p>\n",
              "</div>"
            ],
            "text/plain": [
              "        user_id  problem_id  correct  ...            type skill_id    skill_name\n",
              "0            14       93383        0  ...  MasterySection      2.0  Circle Graph\n",
              "1            14       93407        1  ...  MasterySection      2.0  Circle Graph\n",
              "2            14       93400        0  ...  MasterySection      2.0  Circle Graph\n",
              "3            14       93419        0  ...  MasterySection      2.0  Circle Graph\n",
              "4            14       93420        0  ...  MasterySection      2.0  Circle Graph\n",
              "...         ...         ...      ...  ...             ...      ...           ...\n",
              "525529    96299      108976        1  ...  MasterySection      NaN           NaN\n",
              "525530    96299      109015        1  ...  MasterySection      NaN           NaN\n",
              "525531    96299       54060        1  ...  MasterySection      NaN           NaN\n",
              "525532    96299       54061        1  ...  MasterySection      NaN           NaN\n",
              "525533    96299       54062        0  ...  MasterySection      NaN           NaN\n",
              "\n",
              "[525534 rows x 8 columns]"
            ]
          },
          "metadata": {
            "tags": []
          },
          "execution_count": 10
        }
      ]
    },
    {
      "cell_type": "markdown",
      "metadata": {
        "id": "DCXOlSRqyNdc"
      },
      "source": [
        "# Creating a list of lists, Each sublist contains data about a single student\n",
        "\n"
      ],
      "id": "DCXOlSRqyNdc"
    },
    {
      "cell_type": "code",
      "metadata": {
        "id": "QfXBdnNw5kKW"
      },
      "source": [
        "unique_students = [] # Total No. of unique students\n",
        "student_data = [] # list of lists where each sublist contains data about a unique student\n",
        "single_student_data = []\n",
        "\n",
        "with open('sorted_student.csv') as obj:\n",
        "\n",
        "  file_reader = reader(obj)\n",
        "  # Not considering first line of csv, cuz its just column names\n",
        "  header_line = next(file_reader) \n",
        "  if header_line != None: \n",
        "    for row in file_reader: \n",
        "\n",
        "      # First row in the csv file contains student ids \n",
        "      student_id = row[0]\n",
        "\n",
        "      # Gets true for each unique student\n",
        "      if not student_id in unique_students:\n",
        "\n",
        "        # Gets added to the list of unique student data\n",
        "        unique_students.append(student_id)\n",
        "\n",
        "        if len(single_student_data) > 0:\n",
        "          student_data.append(single_student_data)\n",
        "          single_student_data = [] \n",
        "\n",
        "      # Holds all the data of a unique user\n",
        "      single_student_data.append(row)\n",
        "\n",
        "       \n",
        "    if len(single_student_data)> 0:\n",
        "      student_data.append(single_student_data)        \n",
        "            \n",
        "            "
      ],
      "id": "QfXBdnNw5kKW",
      "execution_count": 5,
      "outputs": []
    },
    {
      "cell_type": "code",
      "metadata": {
        "colab": {
          "base_uri": "https://localhost:8080/"
        },
        "id": "upm3KTyfFwdq",
        "outputId": "b73e38fc-c0d0-45e3-8a19-5156a3e433a6"
      },
      "source": [
        "len(unique_students) "
      ],
      "id": "upm3KTyfFwdq",
      "execution_count": 6,
      "outputs": [
        {
          "output_type": "execute_result",
          "data": {
            "text/plain": [
              "4217"
            ]
          },
          "metadata": {
            "tags": []
          },
          "execution_count": 6
        }
      ]
    },
    {
      "cell_type": "markdown",
      "metadata": {
        "id": "RHpA1ATnCrqL"
      },
      "source": [
        "# Create problem id-skills mapping 'List'"
      ],
      "id": "RHpA1ATnCrqL"
    },
    {
      "cell_type": "markdown",
      "metadata": {
        "id": "fzR6uSS_tTn_"
      },
      "source": [
        "## Sort the data with problem ids and make a csv"
      ],
      "id": "fzR6uSS_tTn_"
    },
    {
      "cell_type": "code",
      "metadata": {
        "id": "9NG3u_LvCeGT"
      },
      "source": [
        "unique_problems = []"
      ],
      "id": "9NG3u_LvCeGT",
      "execution_count": null,
      "outputs": []
    },
    {
      "cell_type": "code",
      "metadata": {
        "id": "vJLBwBqpCeJr"
      },
      "source": [
        "# Appending all unique problems\n",
        "with open('sorted_student.csv') as obj:\n",
        "  file_reader = reader(obj)\n",
        "  header_line = next(file_reader)\n",
        "  if header_line != None:\n",
        "    for row in file_reader:  \n",
        "      q_id = row[1]\n",
        "      if not q_id in unique_problems:\n",
        "        unique_problems.append(q_id)           "
      ],
      "id": "vJLBwBqpCeJr",
      "execution_count": null,
      "outputs": []
    },
    {
      "cell_type": "code",
      "metadata": {
        "colab": {
          "base_uri": "https://localhost:8080/"
        },
        "id": "DBViMIaECeMj",
        "outputId": "39972dfa-fc55-46a7-c69b-c55db227d1b2"
      },
      "source": [
        "len(unique_problems)"
      ],
      "id": "DBViMIaECeMj",
      "execution_count": null,
      "outputs": [
        {
          "output_type": "execute_result",
          "data": {
            "text/plain": [
              "26688"
            ]
          },
          "metadata": {
            "tags": []
          },
          "execution_count": 10
        }
      ]
    },
    {
      "cell_type": "code",
      "metadata": {
        "id": "BNBmnHb8X3Mw"
      },
      "source": [
        "sample1 = open('sbnew.csv','r')\n",
        "csv11 = csv.reader(sample1)\n",
        "sort1 = sorted(csv11,key = operator.itemgetter(1))"
      ],
      "id": "BNBmnHb8X3Mw",
      "execution_count": null,
      "outputs": []
    },
    {
      "cell_type": "code",
      "metadata": {
        "id": "hbWhdJNxX3Ui"
      },
      "source": [
        "# Making a new csv file with sorted problem ids\n",
        "\n",
        "file1 = open('sorted_problems.csv', 'w+', newline ='')\n",
        "with file1:    \n",
        "    write = csv.writer(file1)\n",
        "    write.writerows(sort1)"
      ],
      "id": "hbWhdJNxX3Ui",
      "execution_count": null,
      "outputs": []
    },
    {
      "cell_type": "code",
      "metadata": {
        "colab": {
          "base_uri": "https://localhost:8080/",
          "height": 467
        },
        "id": "_eXOlKjPvndY",
        "outputId": "96daeb91-089d-4bd9-812c-8a8c16278e0f"
      },
      "source": [
        "df3 = pd.read_csv('sorted_problems.csv', encoding = 'latin', low_memory = False)\n",
        "print(df3.columns)\n",
        "df3"
      ],
      "id": "_eXOlKjPvndY",
      "execution_count": null,
      "outputs": [
        {
          "output_type": "stream",
          "text": [
            "Index(['user_id', 'problem_id', 'correct', 'attempt_count', 'answer_type',\n",
            "       'type', 'skill_id', 'skill_name'],\n",
            "      dtype='object')\n"
          ],
          "name": "stdout"
        },
        {
          "output_type": "execute_result",
          "data": {
            "text/html": [
              "<div>\n",
              "<style scoped>\n",
              "    .dataframe tbody tr th:only-of-type {\n",
              "        vertical-align: middle;\n",
              "    }\n",
              "\n",
              "    .dataframe tbody tr th {\n",
              "        vertical-align: top;\n",
              "    }\n",
              "\n",
              "    .dataframe thead th {\n",
              "        text-align: right;\n",
              "    }\n",
              "</style>\n",
              "<table border=\"1\" class=\"dataframe\">\n",
              "  <thead>\n",
              "    <tr style=\"text-align: right;\">\n",
              "      <th></th>\n",
              "      <th>user_id</th>\n",
              "      <th>problem_id</th>\n",
              "      <th>correct</th>\n",
              "      <th>attempt_count</th>\n",
              "      <th>answer_type</th>\n",
              "      <th>type</th>\n",
              "      <th>skill_id</th>\n",
              "      <th>skill_name</th>\n",
              "    </tr>\n",
              "  </thead>\n",
              "  <tbody>\n",
              "    <tr>\n",
              "      <th>0</th>\n",
              "      <td>74964</td>\n",
              "      <td>100522</td>\n",
              "      <td>1</td>\n",
              "      <td>1</td>\n",
              "      <td>choose_1</td>\n",
              "      <td>MasterySection</td>\n",
              "      <td>49.0</td>\n",
              "      <td>Ordering Positive Decimals</td>\n",
              "    </tr>\n",
              "    <tr>\n",
              "      <th>1</th>\n",
              "      <td>78093</td>\n",
              "      <td>100522</td>\n",
              "      <td>1</td>\n",
              "      <td>1</td>\n",
              "      <td>choose_1</td>\n",
              "      <td>MasterySection</td>\n",
              "      <td>49.0</td>\n",
              "      <td>Ordering Positive Decimals</td>\n",
              "    </tr>\n",
              "    <tr>\n",
              "      <th>2</th>\n",
              "      <td>78208</td>\n",
              "      <td>100522</td>\n",
              "      <td>1</td>\n",
              "      <td>1</td>\n",
              "      <td>choose_1</td>\n",
              "      <td>MasterySection</td>\n",
              "      <td>49.0</td>\n",
              "      <td>Ordering Positive Decimals</td>\n",
              "    </tr>\n",
              "    <tr>\n",
              "      <th>3</th>\n",
              "      <td>78266</td>\n",
              "      <td>100522</td>\n",
              "      <td>1</td>\n",
              "      <td>1</td>\n",
              "      <td>choose_1</td>\n",
              "      <td>MasterySection</td>\n",
              "      <td>49.0</td>\n",
              "      <td>Ordering Positive Decimals</td>\n",
              "    </tr>\n",
              "    <tr>\n",
              "      <th>4</th>\n",
              "      <td>78270</td>\n",
              "      <td>100522</td>\n",
              "      <td>0</td>\n",
              "      <td>1</td>\n",
              "      <td>choose_1</td>\n",
              "      <td>MasterySection</td>\n",
              "      <td>49.0</td>\n",
              "      <td>Ordering Positive Decimals</td>\n",
              "    </tr>\n",
              "    <tr>\n",
              "      <th>...</th>\n",
              "      <td>...</td>\n",
              "      <td>...</td>\n",
              "      <td>...</td>\n",
              "      <td>...</td>\n",
              "      <td>...</td>\n",
              "      <td>...</td>\n",
              "      <td>...</td>\n",
              "      <td>...</td>\n",
              "    </tr>\n",
              "    <tr>\n",
              "      <th>525529</th>\n",
              "      <td>78922</td>\n",
              "      <td>99710</td>\n",
              "      <td>1</td>\n",
              "      <td>1</td>\n",
              "      <td>choose_1</td>\n",
              "      <td>MasterySection</td>\n",
              "      <td>50.0</td>\n",
              "      <td>Ordering Fractions</td>\n",
              "    </tr>\n",
              "    <tr>\n",
              "      <th>525530</th>\n",
              "      <td>79056</td>\n",
              "      <td>99710</td>\n",
              "      <td>1</td>\n",
              "      <td>1</td>\n",
              "      <td>choose_1</td>\n",
              "      <td>MasterySection</td>\n",
              "      <td>50.0</td>\n",
              "      <td>Ordering Fractions</td>\n",
              "    </tr>\n",
              "    <tr>\n",
              "      <th>525531</th>\n",
              "      <td>96225</td>\n",
              "      <td>99710</td>\n",
              "      <td>1</td>\n",
              "      <td>1</td>\n",
              "      <td>choose_1</td>\n",
              "      <td>MasterySection</td>\n",
              "      <td>50.0</td>\n",
              "      <td>Ordering Fractions</td>\n",
              "    </tr>\n",
              "    <tr>\n",
              "      <th>525532</th>\n",
              "      <td>96230</td>\n",
              "      <td>99710</td>\n",
              "      <td>1</td>\n",
              "      <td>1</td>\n",
              "      <td>choose_1</td>\n",
              "      <td>MasterySection</td>\n",
              "      <td>50.0</td>\n",
              "      <td>Ordering Fractions</td>\n",
              "    </tr>\n",
              "    <tr>\n",
              "      <th>525533</th>\n",
              "      <td>96279</td>\n",
              "      <td>99710</td>\n",
              "      <td>1</td>\n",
              "      <td>1</td>\n",
              "      <td>choose_1</td>\n",
              "      <td>MasterySection</td>\n",
              "      <td>50.0</td>\n",
              "      <td>Ordering Fractions</td>\n",
              "    </tr>\n",
              "  </tbody>\n",
              "</table>\n",
              "<p>525534 rows × 8 columns</p>\n",
              "</div>"
            ],
            "text/plain": [
              "        user_id  problem_id  ...  skill_id                  skill_name\n",
              "0         74964      100522  ...      49.0  Ordering Positive Decimals\n",
              "1         78093      100522  ...      49.0  Ordering Positive Decimals\n",
              "2         78208      100522  ...      49.0  Ordering Positive Decimals\n",
              "3         78266      100522  ...      49.0  Ordering Positive Decimals\n",
              "4         78270      100522  ...      49.0  Ordering Positive Decimals\n",
              "...         ...         ...  ...       ...                         ...\n",
              "525529    78922       99710  ...      50.0          Ordering Fractions\n",
              "525530    79056       99710  ...      50.0          Ordering Fractions\n",
              "525531    96225       99710  ...      50.0          Ordering Fractions\n",
              "525532    96230       99710  ...      50.0          Ordering Fractions\n",
              "525533    96279       99710  ...      50.0          Ordering Fractions\n",
              "\n",
              "[525534 rows x 8 columns]"
            ]
          },
          "metadata": {
            "tags": []
          },
          "execution_count": 86
        }
      ]
    },
    {
      "cell_type": "markdown",
      "metadata": {
        "id": "tFsHYz-yy7RX"
      },
      "source": [
        "## id-skill map"
      ],
      "id": "tFsHYz-yy7RX"
    },
    {
      "cell_type": "code",
      "metadata": {
        "id": "EULqRwKT08IU"
      },
      "source": [
        "skill_map = open('skillmap.csv','r')\n",
        "csv112 = csv.reader(skill_map)\n",
        "mycsv = list(csv112)\n",
        "p_s_map = []\n",
        "for i,row in enumerate(mycsv):\n",
        "  if i ==0:\n",
        "    continue\n",
        "  p_id = row[0]\n",
        "  s_id = row[1]\n",
        "  if not p_id == \"\" and not s_id == \"\":\n",
        "    pair = [p_id, s_id]\n",
        "    p_s_map.append(pair)"
      ],
      "id": "EULqRwKT08IU",
      "execution_count": 7,
      "outputs": []
    },
    {
      "cell_type": "code",
      "metadata": {
        "colab": {
          "base_uri": "https://localhost:8080/"
        },
        "id": "h_e7cuH0j0hE",
        "outputId": "8369474e-0cd6-4833-c515-3e0f791bafde"
      },
      "source": [
        "len(p_s_map)"
      ],
      "id": "h_e7cuH0j0hE",
      "execution_count": 8,
      "outputs": [
        {
          "output_type": "execute_result",
          "data": {
            "text/plain": [
              "459208"
            ]
          },
          "metadata": {
            "tags": []
          },
          "execution_count": 8
        }
      ]
    },
    {
      "cell_type": "code",
      "metadata": {
        "id": "XuTg68hOPU4c"
      },
      "source": [
        "# Remove duplicates so that we can build problem-skill map\n",
        "\n",
        "p_s_map_ = []\n",
        "for i in p_s_map:\n",
        "    if i not in p_s_map_:\n",
        "        p_s_map_.append(i)"
      ],
      "id": "XuTg68hOPU4c",
      "execution_count": 9,
      "outputs": []
    },
    {
      "cell_type": "code",
      "metadata": {
        "colab": {
          "base_uri": "https://localhost:8080/"
        },
        "id": "miLGh0moSBpL",
        "outputId": "25526404-0639-4250-991e-07effb5b1245"
      },
      "source": [
        "len(p_s_map_)"
      ],
      "id": "miLGh0moSBpL",
      "execution_count": 10,
      "outputs": [
        {
          "output_type": "execute_result",
          "data": {
            "text/plain": [
              "21246"
            ]
          },
          "metadata": {
            "tags": []
          },
          "execution_count": 10
        }
      ]
    },
    {
      "cell_type": "code",
      "metadata": {
        "id": "iMmKR-WCZJJe"
      },
      "source": [
        "p_s_map_"
      ],
      "id": "iMmKR-WCZJJe",
      "execution_count": null,
      "outputs": []
    },
    {
      "cell_type": "code",
      "metadata": {
        "id": "nPrTwNg1zzVt"
      },
      "source": [
        "prob_2_index = {}   # Contains indices to the problem ids\n",
        "prob_skill_map = {} # Dictionary with poblem ids as keys and values as skills for respective problems\n",
        "\n",
        "skills_2_index = {} #Contains indices to the skills\n",
        "skills = []         # Array containing all the unique skill ids\n",
        "\n",
        "no_of_skills = 0    # Contains total no.of unique skills\n",
        "no_of_probs = 0     # Contains total no.of unique problems"
      ],
      "id": "nPrTwNg1zzVt",
      "execution_count": 12,
      "outputs": []
    },
    {
      "cell_type": "code",
      "metadata": {
        "id": "LmT1zCgWzzcB"
      },
      "source": [
        "# Generating problem_id - skill mapping dictionary\n",
        "\n",
        "#For every row in the previosly created p_s_map which contains problem ids and skill ids\n",
        "for row in p_s_map_:\n",
        "  problm = row[0]\n",
        "  skill = row[1]\n",
        "  \n",
        "  # For every unique skill \n",
        "  if not problm in prob_skill_map:\n",
        "    \n",
        "    prob_skill_map[problm] = [skill]\n",
        "    prob_2_index[problm] = no_of_probs\n",
        "\n",
        "    #updating the no.of problems\n",
        "    no_of_probs += 1\n",
        "\n",
        "  else:  \n",
        "    prob_skill_map[problm].append(skill)\n",
        "\n",
        "    # For every unique skill \n",
        "  if not skill in skills_2_index:\n",
        "    skills_2_index[skill] = no_of_skills \n",
        "    skills.append(skill)\n",
        "\n",
        "    #updating the no.of skills\n",
        "    no_of_skills += 1 "
      ],
      "id": "LmT1zCgWzzcB",
      "execution_count": 13,
      "outputs": []
    },
    {
      "cell_type": "code",
      "metadata": {
        "id": "0W78YJAV4dTV"
      },
      "source": [
        "prob_skill_map"
      ],
      "id": "0W78YJAV4dTV",
      "execution_count": null,
      "outputs": []
    },
    {
      "cell_type": "code",
      "metadata": {
        "colab": {
          "base_uri": "https://localhost:8080/"
        },
        "id": "Q75ncELp4dXm",
        "outputId": "82f51ac5-1dc6-481a-84d3-e611a2470f90"
      },
      "source": [
        "no_of_probs"
      ],
      "id": "Q75ncELp4dXm",
      "execution_count": null,
      "outputs": [
        {
          "output_type": "execute_result",
          "data": {
            "text/plain": [
              "17751"
            ]
          },
          "metadata": {
            "tags": []
          },
          "execution_count": 14
        }
      ]
    },
    {
      "cell_type": "code",
      "metadata": {
        "colab": {
          "base_uri": "https://localhost:8080/"
        },
        "id": "BxFq6pmX4dbA",
        "outputId": "a67b6c53-19dc-4ab0-e3cb-53cea98957ed"
      },
      "source": [
        "no_of_skills"
      ],
      "id": "BxFq6pmX4dbA",
      "execution_count": null,
      "outputs": [
        {
          "output_type": "execute_result",
          "data": {
            "text/plain": [
              "123"
            ]
          },
          "metadata": {
            "tags": []
          },
          "execution_count": 20
        }
      ]
    },
    {
      "cell_type": "code",
      "metadata": {
        "colab": {
          "base_uri": "https://localhost:8080/"
        },
        "id": "ViklPE4m4dd2",
        "outputId": "3536fe54-d4ad-4d82-f555-dc3909bfe791"
      },
      "source": [
        "len(prob_2_index)"
      ],
      "id": "ViklPE4m4dd2",
      "execution_count": null,
      "outputs": [
        {
          "output_type": "execute_result",
          "data": {
            "text/plain": [
              "17751"
            ]
          },
          "metadata": {
            "tags": []
          },
          "execution_count": 21
        }
      ]
    },
    {
      "cell_type": "code",
      "metadata": {
        "colab": {
          "base_uri": "https://localhost:8080/"
        },
        "id": "1UCBBjtl56IH",
        "outputId": "50656bfc-7994-49d2-e381-d4b08705e2ac"
      },
      "source": [
        "len(skills)"
      ],
      "id": "1UCBBjtl56IH",
      "execution_count": null,
      "outputs": [
        {
          "output_type": "execute_result",
          "data": {
            "text/plain": [
              "123"
            ]
          },
          "metadata": {
            "tags": []
          },
          "execution_count": 15
        }
      ]
    },
    {
      "cell_type": "code",
      "metadata": {
        "colab": {
          "base_uri": "https://localhost:8080/"
        },
        "id": "peuREccd56Lj",
        "outputId": "563b1c1a-9a94-405c-b9e1-fd3017aed851"
      },
      "source": [
        "len(prob_skill_map)"
      ],
      "id": "peuREccd56Lj",
      "execution_count": null,
      "outputs": [
        {
          "output_type": "execute_result",
          "data": {
            "text/plain": [
              "17751"
            ]
          },
          "metadata": {
            "tags": []
          },
          "execution_count": 16
        }
      ]
    },
    {
      "cell_type": "markdown",
      "metadata": {
        "id": "q0xjel249S78"
      },
      "source": [
        "# Required files that were computed \"student_data\" & \"prob_skill_map\""
      ],
      "id": "q0xjel249S78"
    },
    {
      "cell_type": "code",
      "metadata": {
        "colab": {
          "base_uri": "https://localhost:8080/"
        },
        "id": "CuSIEMm69YyV",
        "outputId": "44806776-c9cd-44bf-f1c2-81e3e1be3ec7"
      },
      "source": [
        "len(student_data)"
      ],
      "id": "CuSIEMm69YyV",
      "execution_count": 16,
      "outputs": [
        {
          "output_type": "execute_result",
          "data": {
            "text/plain": [
              "4217"
            ]
          },
          "metadata": {
            "tags": []
          },
          "execution_count": 16
        }
      ]
    },
    {
      "cell_type": "code",
      "metadata": {
        "id": "i8iwzuHe9Yuy"
      },
      "source": [
        "prob_skill_map"
      ],
      "id": "i8iwzuHe9Yuy",
      "execution_count": null,
      "outputs": []
    },
    {
      "cell_type": "code",
      "metadata": {
        "colab": {
          "base_uri": "https://localhost:8080/"
        },
        "id": "5wRUaEoCqLfl",
        "outputId": "90c7b639-f0a8-4e0d-bc7e-3173a5929de3"
      },
      "source": [
        "len(prob_skill_map)"
      ],
      "id": "5wRUaEoCqLfl",
      "execution_count": null,
      "outputs": [
        {
          "output_type": "execute_result",
          "data": {
            "text/plain": [
              "17751"
            ]
          },
          "metadata": {
            "tags": []
          },
          "execution_count": 31
        }
      ]
    },
    {
      "cell_type": "code",
      "metadata": {
        "id": "mj0jebt9lfPP"
      },
      "source": [
        "student_data[0]"
      ],
      "id": "mj0jebt9lfPP",
      "execution_count": null,
      "outputs": []
    },
    {
      "cell_type": "markdown",
      "metadata": {
        "id": "vuGdrTjr-Q7p"
      },
      "source": [
        "# Computations"
      ],
      "id": "vuGdrTjr-Q7p"
    },
    {
      "cell_type": "markdown",
      "metadata": {
        "id": "rGCa5_b-C5Oq"
      },
      "source": [
        "## Test train split"
      ],
      "id": "rGCa5_b-C5Oq"
    },
    {
      "cell_type": "code",
      "metadata": {
        "colab": {
          "base_uri": "https://localhost:8080/"
        },
        "id": "59AP5NCJa6cI",
        "outputId": "7cfee370-bc7a-4922-ee3b-1a8081e2d588"
      },
      "source": [
        "set_size = float(len(student_data)) / 4\n",
        "print (\"Single set size: \" + str(set_size))"
      ],
      "id": "59AP5NCJa6cI",
      "execution_count": 20,
      "outputs": [
        {
          "output_type": "stream",
          "text": [
            "Single set size: 1054.25\n"
          ],
          "name": "stdout"
        }
      ]
    },
    {
      "cell_type": "code",
      "metadata": {
        "colab": {
          "base_uri": "https://localhost:8080/"
        },
        "id": "r3cNs_o3A-Yz",
        "outputId": "8dcb5dea-c663-4ab0-b745-06d8482e1966"
      },
      "source": [
        "sets = []\n",
        "for i in range(4):\n",
        "  set = []\n",
        "\n",
        "  for idx in range(int(math.floor(i * set_size)), int(math.floor((i + 1) * set_size))):\n",
        "    set = set + student_data[idx]\n",
        "\n",
        "  sets.append(set)  \n",
        "  print (\"Set\" + str(i) +\" contains \"+ str(len(set))+ \" records\")"
      ],
      "id": "r3cNs_o3A-Yz",
      "execution_count": 21,
      "outputs": [
        {
          "output_type": "stream",
          "text": [
            "Set0 contains 305693 records\n",
            "Set1 contains 62331 records\n",
            "Set2 contains 47829 records\n",
            "Set3 contains 109681 records\n"
          ],
          "name": "stdout"
        }
      ]
    },
    {
      "cell_type": "code",
      "metadata": {
        "id": "4U4NX6vraDps"
      },
      "source": [
        "# Creating train-test split\n",
        "\n",
        "for i in range(1):\n",
        "  train_set = []\n",
        "  test_set = []\n",
        "\n",
        "  for j in range(4):\n",
        "    if j != 2:\n",
        "      for set in sets[j]:\n",
        "        train_set.append(set)\n",
        "    else:\n",
        "      test_set = sets[j]"
      ],
      "id": "4U4NX6vraDps",
      "execution_count": 22,
      "outputs": []
    },
    {
      "cell_type": "code",
      "metadata": {
        "colab": {
          "base_uri": "https://localhost:8080/"
        },
        "id": "ayIXDGlad-TI",
        "outputId": "333860a7-c24d-451f-d5c2-a29eb650f631"
      },
      "source": [
        "print(\"Size of Train set : \" + str(len(train_set)))  \n",
        "print(\"Size of Test set : \" + str(len(test_set)))"
      ],
      "id": "ayIXDGlad-TI",
      "execution_count": 23,
      "outputs": [
        {
          "output_type": "stream",
          "text": [
            "Size of Train set : 477705\n",
            "Size of Test set : 47829\n"
          ],
          "name": "stdout"
        }
      ]
    },
    {
      "cell_type": "code",
      "metadata": {
        "id": "rJf39d3sKgj4"
      },
      "source": [
        "train_set"
      ],
      "id": "rJf39d3sKgj4",
      "execution_count": null,
      "outputs": []
    },
    {
      "cell_type": "code",
      "metadata": {
        "id": "oUsPlMLf56WC"
      },
      "source": [
        "unique_stu = []\n",
        "scores = [ [] for c in range(0, no_of_skills) ] #sublists equal to the number of skills where each sublist contains the scores obtained on that skill\n",
        "stud_scores = [ [] for c in range(0, no_of_skills) ] #During iteration, this holds the scores obtained by a unique student\n"
      ],
      "id": "oUsPlMLf56WC",
      "execution_count": 29,
      "outputs": []
    },
    {
      "cell_type": "code",
      "metadata": {
        "id": "oV6KpWo6A-jQ"
      },
      "source": [
        "#Generating student scores from the training data\n",
        "\n",
        "for r, row in enumerate(train_set):\n",
        "  student = row[0]\n",
        "  problm = row[1]\n",
        "\n",
        "  # Checking if No.of attempts > 0, Otherwise we'll skip the iteration\n",
        "  if float(row[3]) == 0:\n",
        "    continue\n",
        "  else:\n",
        "    #score percent = No.of correctly answered/Total no. of Attempts to that question\n",
        "    score_percent = int(round(float(row[2])/float(row[3]))) \n",
        "\n",
        "  if problm not in prob_skill_map:\n",
        "    continue\n",
        "\n",
        "  if not student in unique_stu:  \n",
        "    unique_stu.append(student)\n",
        "    for s in range(0, no_of_skills):\n",
        "      if len(stud_scores[s]) > 0:\n",
        "        scores[s].append(list(stud_scores[s])) \n",
        "    stud_scores = [ [] for c in range(0, no_of_skills) ] \n",
        "\n",
        "  for skill in prob_skill_map[problm]: \n",
        "    stud_scores[skills_2_index[skill]].append(score_percent)\n",
        "\n",
        "\n"
      ],
      "id": "oV6KpWo6A-jQ",
      "execution_count": 30,
      "outputs": []
    },
    {
      "cell_type": "code",
      "metadata": {
        "id": "QswrBGDiA-mr"
      },
      "source": [
        "# Appending the leftover data after last iteration to scores[]\n",
        "for s in range(0, no_of_skills):\n",
        "  if len(stud_scores[s]) > 0:\n",
        "    scores[s].append(list(stud_scores[s]))"
      ],
      "id": "QswrBGDiA-mr",
      "execution_count": 31,
      "outputs": []
    },
    {
      "cell_type": "code",
      "metadata": {
        "colab": {
          "base_uri": "https://localhost:8080/"
        },
        "id": "m-3PCtWn4AAP",
        "outputId": "11405e97-e0a1-4d3b-b8a6-41a7f3749007"
      },
      "source": [
        "len(scores)"
      ],
      "id": "m-3PCtWn4AAP",
      "execution_count": 32,
      "outputs": [
        {
          "output_type": "execute_result",
          "data": {
            "text/plain": [
              "123"
            ]
          },
          "metadata": {
            "tags": []
          },
          "execution_count": 32
        }
      ]
    },
    {
      "cell_type": "code",
      "metadata": {
        "colab": {
          "base_uri": "https://localhost:8080/"
        },
        "id": "_PWrrsLMm_GF",
        "outputId": "25a7a02c-8a9d-4c67-959c-3e33ae9cc281"
      },
      "source": [
        "len(unique_stu)"
      ],
      "id": "_PWrrsLMm_GF",
      "execution_count": 33,
      "outputs": [
        {
          "output_type": "execute_result",
          "data": {
            "text/plain": [
              "3101"
            ]
          },
          "metadata": {
            "tags": []
          },
          "execution_count": 33
        }
      ]
    },
    {
      "cell_type": "code",
      "metadata": {
        "colab": {
          "base_uri": "https://localhost:8080/"
        },
        "id": "EaE7bCVLjFBR",
        "outputId": "2ffdae61-5a19-4fe6-cdd0-4609cc424404"
      },
      "source": [
        "print(scores.keys())"
      ],
      "id": "EaE7bCVLjFBR",
      "execution_count": null,
      "outputs": [
        {
          "output_type": "stream",
          "text": [
            "dict_keys(['14', '21825', '51950', '52613', '53167', '54318', '58161', '64525', '64531', '64532', '64535', '64550', '64634', '69931', '70190', '70363', '70657', '70676', '70677', '70679', '70682', '70684', '70687', '70688', '70692', '70693', '70695', '70699', '70701', '70702', '70704', '70706', '70707', '70708', '70709', '70727', '70728', '70729', '70730', '70731', '70732', '70733', '70734', '70736', '70740', '70743', '70744', '70745', '70746', '70748', '70750', '70752', '70754', '70756', '70758', '70759', '70816', '70872', '70874', '71034', '71066', '71068', '71105', '71113', '71144', '71146', '71148', '71151', '71152', '71163', '71173', '71174', '71175', '71176', '71177', '71179', '71180', '71181', '71183', '71185', '71187', '71188', '71190', '71191', '71192', '71193', '71198', '71203', '71205', '71208', '71209', '71210', '71211', '71212', '71213', '71215', '71216', '71219', '71221', '71224', '71225', '71227', '71230', '71231', '71232', '71234', '71235', '71250', '71427', '71557', '71560', '71564', '71570', '71573', '71740', '71807', '71809', '71810', '71821', '71823', '71824', '71826', '71829', '71830', '71831', '71872', '71873', '71874', '71876', '71877', '71881', '71883', '71907', '71918', '72059', '72327', '72374', '72378', '72720', '72735', '72880', '73100', '73289', '73604', '73633', '73684', '73685', '73962', '73963', '74384', '74459', '74673', '74674', '74676', '74678', '74698', '74701', '74704', '74864', '74964', '75169', '75303', '75316', '75346', '75361', '76033', '76456', '76685', '76975', '76982', '76992', '76998', '77069', '77117', '77118', '77402', '77725', '77866', '77881', '77899', '77902', '77939', '77941', '77942', '77944', '77945', '77947', '77948', '77949', '77954', '77955', '77956', '77957', '77958', '77960', '77961', '77962', '77963', '77965', '77966', '77967', '77970', '77973', '77984', '77990', '77991', '77992', '77993', '77994', '77997', '77998', '77999', '78000', '78001', '78002', '78003', '78004', '78005', '78006', '78007', '78008', '78010', '78011', '78012', '78013', '78016', '78017', '78018', '78019', '78020', '78021', '78022', '78023', '78024', '78026', '78027', '78028', '78029', '78030', '78031', '78032', '78033', '78034', '78035', '78037', '78038', '78039', '78040', '78041', '78042', '78043', '78044', '78045', '78046', '78047', '78048', '78049', '78051', '78052', '78061', '78062', '78070', '78073', '78090', '78091', '78092', '78093', '78094', '78095', '78097', '78098', '78099', '78100', '78101', '78102', '78103', '78104', '78105', '78106', '78107', '78108', '78110', '78137', '78154', '78155', '78157', '78158', '78160', '78161', '78163', '78164', '78166', '78167', '78168', '78169', '78171', '78173', '78174', '78175', '78176', '78178', '78184', '78191', '78202', '78204', '78206', '78207', '78208', '78209', '78210', '78211', '78212', '78213', '78214', '78215', '78216', '78217', '78218', '78219', '78220', '78221', '78223', '78224', '78225', '78226', '78227', '78228', '78230', '78231', '78232', '78233', '78235', '78241', '78252', '78254', '78256', '78257', '78261', '78263', '78265', '78266', '78267', '78268', '78269', '78270', '78271', '78272', '78273', '78274', '78275', '78276', '78277', '78278', '78279', '78280', '78281', '78282', '78283', '78284', '78285', '78286', '78287', '78288', '78291', '78295', '78299', '78300', '78301', '78303', '78304', '78306', '78329', '78340', '78341', '78342', '78343', '78344', '78345', '78349', '78351', '78352', '78353', '78356', '78357', '78358', '78360', '78361', '78362', '78363', '78365', '78366', '78367', '78368', '78369', '78370', '78371', '78373', '78385', '78387', '78388', '78389', '78390', '78391', '78392', '78393', '78394', '78395', '78396', '78397', '78398', '78401', '78402', '78404', '78405', '78406', '78407', '78408', '78409', '78411', '78412', '78413', '78414', '78415', '78417', '78418', '78419', '78423', '78424', '78446', '78447', '78449', '78450', '78452', '78453', '78454', '78455', '78456', '78457', '78458', '78459', '78460', '78461', '78462', '78463', '78467', '78492', '78493', '78494', '78495', '78496', '78498', '78499', '78500', '78501', '78503', '78504', '78508', '78509', '78510', '78512', '78513', '78514', '78515', '78516', '78517', '78518', '78519', '78520', '78521', '78522', '78523', '78524', '78527', '78528', '78531', '78532', '78534', '78535', '78536', '78537', '78538', '78539', '78540', '78541', '78542', '78543', '78544', '78545', '78546', '78547', '78548', '78549', '78550', '78551', '78552', '78553', '78555', '78556', '78557', '78558', '78559', '78560', '78561', '78562', '78564', '78565', '78566', '78567', '78568', '78569', '78570', '78571', '78572', '78573', '78574', '78575', '78576', '78577', '78579', '78580', '78581', '78582', '78583', '78584', '78585', '78586', '78587', '78588', '78589', '78590', '78591', '78592', '78593', '78595', '78598', '78647', '78673', '78674', '78675', '78704', '78705', '78706', '78707', '78708', '78709', '78710', '78711', '78712', '78714', '78718', '78719', '78720', '78721', '78722', '78723', '78724', '78725', '78726', '78727', '78729', '78731', '78732', '78757', '78763', '78764', '78765', '78766', '78767', '78768', '78769', '78770', '78771', '78772', '78773', '78774', '78775', '78776', '78777', '78778', '78779', '78780', '78781', '78782', '78783', '78784', '78785', '78786', '78787', '78788', '78789', '78801', '78803', '78804', '78805', '78806', '78807', '78808', '78809', '78810', '78811', '78812', '78813', '78814', '78815', '78816', '78817', '78818', '78819', '78833', '78834', '78835', '78836', '78837', '78838', '78839', '78840', '78842', '78843', '78844', '78845', '78846', '78847', '78848', '78849', '78863', '78867', '78868', '78874', '78875', '78877', '78878', '78879', '78880', '78881', '78882', '78883', '78884', '78885', '78886', '78887', '78888', '78889', '78890', '78891', '78892', '78893', '78894', '78895', '78896', '78897', '78899', '78901', '78902', '78903', '78904', '78905', '78906', '78907', '78908', '78909', '78910', '78911', '78912', '78913', '78914', '78915', '78916', '78917', '78918', '78919', '78920', '78921', '78922', '78923', '78926', '78927', '78928', '78944', '78945', '78946', '78947', '78948', '78949', '78951', '78952', '78953', '78954', '78955', '78956', '78957', '78958', '78959', '78968', '78969', '78970', '78971', '78972', '78973', '78974', '78975', '78976', '78977', '78978', '78979', '78980', '78981', '78982', '78983', '78984', '78985', '78986', '78987', '78988', '78989', '78990', '78991', '78992', '78993', '78994', '78995', '78996', '78997', '78998', '78999', '79000', '79001', '79002', '79003', '79004', '79005', '79006', '79007', '79008', '79009', '79010', '79011', '79012', '79013', '79014', '79015', '79016', '79017', '79018', '79019', '79020', '79021', '79022', '79023', '79024', '79026', '79027', '79029', '79030', '79031', '79032', '79033', '79034', '79054', '79055', '79056', '79057', '79058', '79059', '79060', '79061', '79062', '79063', '79064', '79066', '79067', '79068', '79069', '79070', '79071', '79073', '79074', '79075', '79111', '79148', '79150', '79156', '79158', '79161', '79205', '79213', '79214', '79217', '79218', '79219', '79220', '79224', '79236', '79237', '79242', '79246', '79264', '79272', '79273', '79274', '79275', '79276', '79278', '79279', '79280', '79281', '79283', '79284', '79285', '79286', '79287', '79288', '79289', '79290', '79291', '79292', '79293', '79300', '79302', '79305', '79306', '79310', '79313', '79316', '79319', '79322', '79324', '79327', '79333', '79352', '79403', '79409', '79410', '79411', '79412', '79413', '79414', '79415', '79416', '79417', '79419', '79420', '79421', '79422', '79424', '79425', '79426', '79427', '79428', '79429', '79430', '79432', '79448', '79449', '79451', '79452', '79456', '79458', '79460', '79463', '79469', '79481', '79482', '79483', '79484', '79485', '79487', '79488', '79490', '79491', '79492', '79493', '79494', '79496', '79497', '79499', '79500', '79501', '79502', '79503', '79504', '79505', '79506', '79507', '79508', '79509', '79510', '79511', '79512', '79513', '79514', '79515', '79516', '79517', '79518', '79519', '79522', '79528', '79529', '79530', '79531', '79533', '79534', '79535', '79536', '79537', '79538', '79539', '79540', '79541', '79542', '79543', '79544', '79545', '79546', '79547', '79548', '79555', '79557', '79558', '79559', '79561', '79564', '79565', '79568', '79569', '79570', '79572', '79573', '79575', '79577', '79578', '79579', '79580', '79581', '79582', '79583', '79584', '79585', '79586', '79587', '79588', '79589', '79593', '79595', '79596', '79597', '79598', '79600', '79602', '79605', '79606', '79608', '79609', '79610', '79611', '79613', '79614', '79615', '79616', '79617', '79618', '79619', '79620', '79621', '79622', '79623', '79625', '79626', '79627', '79632', '79661', '79662', '79663', '79664', '79665', '79666', '79667', '79668', '79669', '79670', '79671', '79672', '79673', '79674', '79675', '79678', '79679', '79680', '79681', '79682', '79683', '79684', '79686', '79687', '79688', '79689', '79690', '79691', '79692', '79693', '79694', '79695', '79697', '79698', '79699', '79700', '79701', '79703', '79704', '79714', '79716', '79720', '79721', '79726', '79729', '79735', '79736', '79737', '79738', '79739', '79740', '79741', '79742', '79743', '79744', '79745', '79746', '79747', '79748', '79749', '79750', '79752', '79753', '79760', '79761', '79762', '79763', '79764', '79765', '79766', '79768', '79769', '79772', '79773', '79774', '79776', '79777'])\n"
          ],
          "name": "stdout"
        }
      ]
    },
    {
      "cell_type": "markdown",
      "metadata": {
        "id": "WI8WK4DZ2tKO"
      },
      "source": [
        "## Params"
      ],
      "id": "WI8WK4DZ2tKO"
    },
    {
      "cell_type": "code",
      "metadata": {
        "id": "PpI8ZUqEq9gy"
      },
      "source": [
        " # Initializing probability values to try\n",
        "prob_values = [0.1, 0.2, 0.3, 0.4, 0.5, 0.6, 0.7, 0.8, 0.9]\n",
        "probability_choices = []\n",
        "\n",
        "for p_init in prob_values:\n",
        "  for p_transit in prob_values:\n",
        "    # We assume guess probability and slip probability will always be less than 0.5\n",
        "    for p_guess in [x for x in prob_values if x < 0.5]: \n",
        "      for p_slip in [x for x in prob_values if x < 0.5]:\n",
        "        probability_choices.append({'p_init': p_init,'p_transit': p_transit,'p_guess': p_guess, 'p_slip': p_slip})  "
      ],
      "id": "PpI8ZUqEq9gy",
      "execution_count": 24,
      "outputs": []
    },
    {
      "cell_type": "code",
      "metadata": {
        "id": "8HhX3wbUuNuX"
      },
      "source": [
        "'''import random\n",
        "num = 100  # set the number to select here.\n",
        "probability_choices_ = random.sample(probability_choices, num)'''\n",
        "\n"
      ],
      "id": "8HhX3wbUuNuX",
      "execution_count": null,
      "outputs": []
    },
    {
      "cell_type": "code",
      "metadata": {
        "colab": {
          "base_uri": "https://localhost:8080/"
        },
        "id": "n_4hDOwtxmff",
        "outputId": "deea53b2-93a3-49a8-e3bd-66758b53c7a0"
      },
      "source": [
        "#len(probability_choices_)"
      ],
      "id": "n_4hDOwtxmff",
      "execution_count": null,
      "outputs": [
        {
          "output_type": "execute_result",
          "data": {
            "text/plain": [
              "100"
            ]
          },
          "metadata": {
            "tags": []
          },
          "execution_count": 22
        }
      ]
    },
    {
      "cell_type": "code",
      "metadata": {
        "id": "DmTMBViPwf0L"
      },
      "source": [
        "#probability_choices =[]\n",
        "#probability_choices = probability_choices_"
      ],
      "id": "DmTMBViPwf0L",
      "execution_count": null,
      "outputs": []
    },
    {
      "cell_type": "code",
      "metadata": {
        "colab": {
          "base_uri": "https://localhost:8080/"
        },
        "id": "BHaDpJHQxv4U",
        "outputId": "5fc79b96-4ee9-447f-c7ca-b75cef437914"
      },
      "source": [
        "len(probability_choices)"
      ],
      "id": "BHaDpJHQxv4U",
      "execution_count": 25,
      "outputs": [
        {
          "output_type": "execute_result",
          "data": {
            "text/plain": [
              "1296"
            ]
          },
          "metadata": {
            "tags": []
          },
          "execution_count": 25
        }
      ]
    },
    {
      "cell_type": "code",
      "metadata": {
        "colab": {
          "base_uri": "https://localhost:8080/"
        },
        "id": "CuES9HODj1BI",
        "outputId": "2ab6f880-2516-42c0-b754-da8d0f6ab92e"
      },
      "source": [
        "probability_choices[0]"
      ],
      "id": "CuES9HODj1BI",
      "execution_count": 26,
      "outputs": [
        {
          "output_type": "execute_result",
          "data": {
            "text/plain": [
              "{'p_guess': 0.1, 'p_init': 0.1, 'p_slip': 0.1, 'p_transit': 0.1}"
            ]
          },
          "metadata": {
            "tags": []
          },
          "execution_count": 26
        }
      ]
    },
    {
      "cell_type": "code",
      "metadata": {
        "id": "qianFykHA-tN"
      },
      "source": [
        "best_choice_ = [probability_choices[0] for x in range(0, no_of_skills)]\n",
        "calculated_scores = [float(\"-inf\") for x in range(0, no_of_skills)]\n",
        "total_que = [0 for x in range(0, no_of_skills)]"
      ],
      "id": "qianFykHA-tN",
      "execution_count": 27,
      "outputs": []
    },
    {
      "cell_type": "code",
      "metadata": {
        "id": "gOcosz4SA-xG"
      },
      "source": [
        "#---------------------------------------------------\n",
        "# Finding the best probability parameters for each skill \n",
        "#--------------------------------------------------\n",
        "\n",
        "\n",
        "#Iterating through the range of skills \n",
        "for i in range(0, no_of_skills):\n",
        "  best_choice_[i] = probability_choices[0] #intializing with some random parameters, later gets the best parameters assigned at the end of loop\n",
        "\n",
        "  # Iterate over range of all probability_choices\n",
        "  for p, prob_parameter in enumerate(probability_choices):\n",
        "\n",
        "    overall_score = 0\n",
        "    no_of_attempts = 0\n",
        "\n",
        "    # User if he solved a problem with this skill\n",
        "    for u in range(0, len(scores[i])):\n",
        "      user_score = 0\n",
        "\n",
        "      # Intializing the probabilities\n",
        "      p_mastered = prob_parameter['p_init']\n",
        "      p_transit = prob_parameter['p_transit']\n",
        "      p_slip = prob_parameter['p_slip']\n",
        "                   \n",
        "      # Initializing the compliments             \n",
        "      p_guess_compliment = 1 - p_guess \n",
        "      p_slip_compliment = 1 - p_slip\n",
        "      p_mastered_compliment = 1 - p_mastered\n",
        "\n",
        "      no_of_attempts += len(scores[i][u]) \n",
        "\n",
        "      # Itererate over every score \n",
        "      for s in scores[i][u]: \n",
        "\n",
        "        p_correct = (p_mastered * p_slip_compliment) + (p_mastered_compliment * p_guess)\n",
        "         \n",
        "        user_score += math.log( (s * p_correct) - (( s - 1) * (1 - p_correct)) )\n",
        "\n",
        "        x = ( s * p_mastered * p_slip_compliment / (p_mastered * p_slip_compliment + p_mastered_compliment * p_guess) )\n",
        "        y = ( (s - 1) * p_mastered * p_slip / (p_mastered * p_slip + p_mastered_compliment * p_guess_compliment) )\n",
        "        p_learn = x - y\n",
        "\n",
        "        p_mastered = p_learn + (1 - p_learn) * p_transit\n",
        "        p_mastered_compliment = 1 - p_mastered\n",
        "\n",
        "      overall_score += user_score\n",
        "    \n",
        "    print(str(i) + \"/\" + str(no_of_skills))\n",
        "\n",
        "    # Gathering the best parameters\n",
        "    if overall_score > calculated_scores[i]:\n",
        "\n",
        "      calculated_scores[i] = overall_score\n",
        "      best_choice_[i] = probability_choices[p]\n",
        "      total_que[i] = no_of_attempts\n",
        "\n",
        "\n"
      ],
      "id": "gOcosz4SA-xG",
      "execution_count": null,
      "outputs": []
    },
    {
      "cell_type": "code",
      "metadata": {
        "id": "iU0d9ysjOxFA"
      },
      "source": [
        "# Storing the best parameters\n",
        "best_choice = {} \n",
        "\n",
        "for c, skill in enumerate(skills):\n",
        "  if c == 0:\n",
        "    continue\n",
        "  print(str(calculated_scores[c]) + \"/\" + str(total_que[c]))  \n",
        "  best_choice[skill] = best_choice_[c]     \n",
        "            "
      ],
      "id": "iU0d9ysjOxFA",
      "execution_count": null,
      "outputs": []
    },
    {
      "cell_type": "code",
      "metadata": {
        "id": "80igd_VXOxPK"
      },
      "source": [
        " #Creating a csv file with skills and their best params\n",
        " \n",
        " \n",
        " #Initiating the csv writer\n",
        " file_s = csv.writer(open('prob_params.csv', 'w', newline =''))\n",
        "\n",
        " # Inserting the columns into csv\n",
        " file_s.writerow(['skill', 'p_init', 'p_transit', 'p_guess', 'p_slip'])\n",
        "\n",
        " # Iteratively adding the rows { skill --> {params}}\n",
        " for skill_ in best_choice.keys():\n",
        "   csv_row = [skill_, str(best_choice[skill_]['p_init']), str(best_choice[skill_]['p_transit']), str(best_choice[skill_]['p_guess']), str(best_choice[skill_]['p_slip'])]\n",
        "   file_s.writerow(csv_row)\n",
        "            "
      ],
      "id": "80igd_VXOxPK",
      "execution_count": 36,
      "outputs": []
    },
    {
      "cell_type": "code",
      "metadata": {
        "id": "39X1JD4oOxan"
      },
      "source": [
        "best_choice"
      ],
      "id": "39X1JD4oOxan",
      "execution_count": null,
      "outputs": []
    },
    {
      "cell_type": "markdown",
      "metadata": {
        "id": "yfR0AV81vY1X"
      },
      "source": [
        "# Prediction"
      ],
      "id": "yfR0AV81vY1X"
    },
    {
      "cell_type": "code",
      "metadata": {
        "colab": {
          "base_uri": "https://localhost:8080/"
        },
        "id": "lR0m3H4ZOxec",
        "outputId": "fea8eab2-0173-44b8-deb5-1a58aac56184"
      },
      "source": [
        "len(test_set)"
      ],
      "id": "lR0m3H4ZOxec",
      "execution_count": 38,
      "outputs": [
        {
          "output_type": "execute_result",
          "data": {
            "text/plain": [
              "47829"
            ]
          },
          "metadata": {
            "tags": []
          },
          "execution_count": 38
        }
      ]
    },
    {
      "cell_type": "code",
      "metadata": {
        "colab": {
          "base_uri": "https://localhost:8080/"
        },
        "id": "mj_dxTtExmnZ",
        "outputId": "c1d0e36c-059e-4f5a-b595-e9053ae4159b"
      },
      "source": [
        "len(train_set)"
      ],
      "id": "mj_dxTtExmnZ",
      "execution_count": 39,
      "outputs": [
        {
          "output_type": "execute_result",
          "data": {
            "text/plain": [
              "477705"
            ]
          },
          "metadata": {
            "tags": []
          },
          "execution_count": 39
        }
      ]
    },
    {
      "cell_type": "code",
      "metadata": {
        "id": "ZZnIL2_0OxlN"
      },
      "source": [
        "student_scores = [ {} for c in range(0, no_of_skills) ] \n",
        "student_lists = {}\n",
        "unique = []\n",
        "\n",
        "# Iterate over every row of test data\n",
        "for r, row in enumerate(test_set):\n",
        "  s_id = row[0]\n",
        "  if float(row[3]) == 0: \n",
        "    continue                           # Not considering if the no.of attempts to the questions are zero\n",
        "  else:\n",
        "    score = int(round(float(row[2])/float(row[3])))  \n",
        "  problm = row[1]                      # First column contains problem id\n",
        "  \n",
        "# Checking if the problem is in problem-skill-map\n",
        "  if problm not in prob_skill_map:\n",
        "    continue\n",
        "\n",
        "# Checking is student id is in lists\n",
        "  if s_id not in student_lists:\n",
        "    student_lists[s_id] = {}            # creating student dict\n",
        "\n",
        "  if problm not in  student_lists[s_id]:\n",
        "    student_lists[s_id][problm] = []    # creating problem array for that student\n",
        "    skill_indicies = []\n",
        "\n",
        "\n",
        "# For every skill that student solves\n",
        "  for skill in prob_skill_map[problm]:\n",
        "                \n",
        "    if s_id not in student_scores[skills_2_index[skill]]:\n",
        "      student_scores[skills_2_index[skill]][s_id] = []\n",
        "\n",
        "    student_scores[skills_2_index[skill]][s_id].append(score)\n",
        "    skill_indicies.append(len(student_scores[skills_2_index[skill]][s_id])-1)\n",
        "\n",
        "\n",
        "  student_lists[s_id][problm].append(skill_indicies) \n",
        "        "
      ],
      "id": "ZZnIL2_0OxlN",
      "execution_count": 40,
      "outputs": []
    },
    {
      "cell_type": "code",
      "metadata": {
        "id": "g1lpf-qTOxpd"
      },
      "source": [
        "sores_n = [ {} for i in range(0, no_of_skills) ] \n",
        "      \n",
        "# Iterate over every skill\n",
        "for c, skill_s in enumerate(skills):\n",
        "\n",
        "# Iteration over every user\n",
        "  for sid in student_scores[c].keys():\n",
        "\n",
        "    #checking if skill is already observed in best_choice\n",
        "    if skill_s not in best_choice:\n",
        "      best_choice[skill_s] = probability_choices[0] # Random assigning parameters\n",
        "\n",
        "    # Initializing parameters with already calculated best parameters \n",
        "    p_mastered = best_choice[skill_s]['p_init']\n",
        "    p_transit = best_choice[skill_s]['p_transit']\n",
        "    p_guess = best_choice[skill_s]['p_guess']\n",
        "    p_slip = best_choice[skill_s]['p_slip']\n",
        "    \n",
        "\n",
        "   # Initializing the complements\n",
        "    p_slip_compliment = 1 - p_slip\n",
        "    p_guess_compliment = 1 - p_guess\n",
        "    p_mastered_compliment = 1 - p_mastered\n",
        "\n",
        "    sores_n[c][sid] = []\n",
        "\n",
        "    #Iterate through each scores            \n",
        "    for s in student_scores[c][sid]:\n",
        "      \n",
        "      p_correct = (p_mastered * p_slip_compliment) + (p_mastered_compliment * p_guess)\n",
        "\n",
        "      x = ( s * p_mastered * p_slip_compliment / (p_mastered * p_slip_compliment + p_mastered_compliment * p_guess) )\n",
        "      y = ( (s - 1) * p_mastered * p_slip / (p_mastered * p_slip + p_mastered_compliment * p_guess_compliment) )\n",
        "      p_learn = x - y\n",
        "\n",
        "      p_mastered = p_learn + (1 - p_learn) * p_transit\n",
        "      p_mastered_compliment = 1 - p_mastered\n",
        "\n",
        "      sores_n[c][sid].append(p_correct)\n",
        "\n",
        "                   \n",
        "                "
      ],
      "id": "g1lpf-qTOxpd",
      "execution_count": 41,
      "outputs": []
    },
    {
      "cell_type": "code",
      "metadata": {
        "id": "RyZTpEvR9F3x"
      },
      "source": [
        "# Getting the predictions and scores\n",
        "scores = {}\n",
        "y = {}  \n",
        "\n",
        "for s_id in student_lists:\n",
        "  y[s_id] = []\n",
        "  scores[s_id] = []\n",
        "  for problm in student_lists[s_id]:\n",
        "    for std_attmp in student_lists[s_id][problm]: \n",
        "      a_score = 0\n",
        "      b_score = 0\n",
        "      for i in range(0, len(std_attmp)):\n",
        "        if i > len(prob_skill_map[problm])-1:\n",
        "          continue\n",
        "        index = std_attmp[i]  \n",
        "        skill_i = skills_2_index[prob_skill_map[problm][i]]\n",
        "\n",
        "        if index > len(sores_n[skill_i][s_id])-1:\n",
        "          continue\n",
        "\n",
        "        a_score += sores_n[skill_i][s_id][index]\n",
        "        if i == 0:\n",
        "          b_score = student_scores[skill_i][s_id][index]                 \n",
        "\n",
        "      y[s_id].append(b_score)\n",
        "\n",
        "      #Taking average of the score w.r.t the no.of skills per problem and inserting into final scores\n",
        "      scores[s_id].append(a_score/len(prob_skill_map[problm]))"
      ],
      "id": "RyZTpEvR9F3x",
      "execution_count": 42,
      "outputs": []
    },
    {
      "cell_type": "code",
      "metadata": {
        "id": "uKzjTRQ1pODw"
      },
      "source": [
        "scores"
      ],
      "id": "uKzjTRQ1pODw",
      "execution_count": null,
      "outputs": []
    },
    {
      "cell_type": "code",
      "metadata": {
        "id": "eutWpknlpOIO"
      },
      "source": [
        "#Writing the results into csv\n",
        "\n",
        "file_w = csv.writer(open('results.csv', 'w', newline =''))\n",
        "file_w.writerow(['y', 'prediction'])\n",
        "for s_id in y.keys(): \n",
        "  for i in range(0, len(y[s_id])):\n",
        "    entry = [str(y[s_id][i]), str(scores[s_id][i])]\n",
        "    file_w.writerow(entry)\n",
        "  file_w.writerow([])"
      ],
      "id": "eutWpknlpOIO",
      "execution_count": null,
      "outputs": []
    },
    {
      "cell_type": "markdown",
      "metadata": {
        "id": "91LtNd0Zq65_"
      },
      "source": [
        "# AUC"
      ],
      "id": "91LtNd0Zq65_"
    },
    {
      "cell_type": "code",
      "metadata": {
        "colab": {
          "base_uri": "https://localhost:8080/"
        },
        "id": "2LAn3wjfpOM5",
        "outputId": "34037b17-38fc-4ba1-da3c-475b99b55ec6"
      },
      "source": [
        "file_result = open('results.csv', 'r')\n",
        "  \n",
        "# writing the data into the file\n",
        "with file_result:    \n",
        "    read = csv.reader(file_result)\n",
        "    value_s = []\n",
        "    score_s = []\n",
        "    for i,row in enumerate(read):\n",
        "      if i ==0:\n",
        "        continue\n",
        "      if len(row) is not 0:\n",
        "        value_s.append(int(row[0]))\n",
        "        score_s.append(float(row[1]))\n",
        "    values = np.array(value_s)\n",
        "    scores = np.array(score_s)\n",
        "\n",
        "auc = roc_auc_score(values, scores)\n",
        "print (\"AUC score : \"+ str(auc))"
      ],
      "id": "2LAn3wjfpOM5",
      "execution_count": 47,
      "outputs": [
        {
          "output_type": "stream",
          "text": [
            "AUC score : 0.6917493465741728\n"
          ],
          "name": "stdout"
        }
      ]
    },
    {
      "cell_type": "code",
      "metadata": {
        "id": "XVTmfhhBpPNn"
      },
      "source": [
        ""
      ],
      "id": "XVTmfhhBpPNn",
      "execution_count": null,
      "outputs": []
    },
    {
      "cell_type": "code",
      "metadata": {
        "id": "Pu10Eq5bBsOz"
      },
      "source": [
        ""
      ],
      "id": "Pu10Eq5bBsOz",
      "execution_count": null,
      "outputs": []
    },
    {
      "cell_type": "markdown",
      "metadata": {
        "id": "NnohDgLkqdfS"
      },
      "source": [
        "# ------------------------------------------------------------------------------------------------------------------"
      ],
      "id": "NnohDgLkqdfS"
    }
  ]
}